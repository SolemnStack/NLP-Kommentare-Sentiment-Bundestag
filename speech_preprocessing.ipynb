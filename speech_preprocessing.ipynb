{
 "cells": [
  {
   "cell_type": "markdown",
   "metadata": {},
   "source": [
    "# durch dokumente iterieren\n",
    "- je nachdem, was man möchte; z.b. rede/kommentar/partei muss der teil nach dem Pfeil angepasst werden\n",
    "- kann an dieser Stelle nicht ausgeführt werden; Daten müssen erst geladen werden. Steht hier nur als allgemeiner Hinweis"
   ]
  },
  {
   "cell_type": "markdown",
   "metadata": {},
   "source": [
    "\n",
    "for key in rededict:\n",
    "print(key, '->', rededict[key][1])\n",
    "print('')"
   ]
  },
  {
   "cell_type": "markdown",
   "metadata": {},
   "source": [
    "# Imports"
   ]
  },
  {
   "cell_type": "code",
   "execution_count": 1,
   "metadata": {},
   "outputs": [],
   "source": [
    "# diese Imports habe ich wirklich benötigt\n",
    "import nltk\n",
    "import json"
   ]
  },
  {
   "cell_type": "code",
   "execution_count": null,
   "metadata": {},
   "outputs": [
    {
     "name": "stderr",
     "output_type": "stream",
     "text": [
      "[nltk_data] Downloading package stopwords to\n",
      "[nltk_data]     C:\\Users\\clara\\AppData\\Roaming\\nltk_data...\n",
      "[nltk_data]   Package stopwords is already up-to-date!\n",
      "[nltk_data] Downloading package wordnet to\n",
      "[nltk_data]     C:\\Users\\clara\\AppData\\Roaming\\nltk_data...\n",
      "[nltk_data]   Package wordnet is already up-to-date!\n",
      "[nltk_data] Downloading package omw-1.4 to\n",
      "[nltk_data]     C:\\Users\\clara\\AppData\\Roaming\\nltk_data...\n",
      "[nltk_data]   Package omw-1.4 is already up-to-date!\n",
      "[nltk_data] Downloading package averaged_perceptron_tagger to\n",
      "[nltk_data]     C:\\Users\\clara\\AppData\\Roaming\\nltk_data...\n",
      "[nltk_data]   Package averaged_perceptron_tagger is already up-to-\n",
      "[nltk_data]       date!\n"
     ]
    }
   ],
   "source": [
    "# die folgendem habe ich aus einem Skript kopiert\n",
    "import json \n",
    "import pandas as pd\n",
    "import re\n",
    "import matplotlib.pyplot as plt\n",
    "%matplotlib inline\n",
    "import seaborn as sns\n",
    "plt.style.use(\"fivethirtyeight\")\n",
    "pd.set_option('display.max_colwidth', 80)\n",
    "import matplotlib.patheffects as path_effects\n",
    "import nltk\n",
    "import numpy as np\n",
    "import seaborn as sns\n",
    "import gensim\n",
    "nltk.download('stopwords')\n",
    "nltk.download('wordnet')\n",
    "from nltk.corpus import stopwords\n",
    "from nltk.stem import WordNetLemmatizer\n",
    "nltk.download('omw-1.4')\n",
    "nltk.download('averaged_perceptron_tagger')\n",
    "from collections import Counter\n"
   ]
  },
  {
   "cell_type": "markdown",
   "metadata": {},
   "source": [
    "# load data"
   ]
  },
  {
   "cell_type": "code",
   "execution_count": 2,
   "metadata": {},
   "outputs": [
    {
     "ename": "FileNotFoundError",
     "evalue": "[Errno 2] No such file or directory: 'NLP-Kommentare-Sentiment-Bundestag/BundestagsReden.json'",
     "output_type": "error",
     "traceback": [
      "\u001b[1;31m---------------------------------------------------------------------------\u001b[0m",
      "\u001b[1;31mFileNotFoundError\u001b[0m                         Traceback (most recent call last)",
      "\u001b[1;32m~\\AppData\\Local\\Temp\\ipykernel_12212\\371542212.py\u001b[0m in \u001b[0;36m<module>\u001b[1;34m\u001b[0m\n\u001b[1;32m----> 1\u001b[1;33m \u001b[0mf\u001b[0m\u001b[1;33m=\u001b[0m\u001b[0mopen\u001b[0m \u001b[1;33m(\u001b[0m\u001b[1;34m\"NLP-Kommentare-Sentiment-Bundestag/BundestagsReden.json\"\u001b[0m\u001b[1;33m)\u001b[0m \u001b[1;31m#open json file; json object will be returned ad a dictionary\u001b[0m\u001b[1;33m\u001b[0m\u001b[1;33m\u001b[0m\u001b[0m\n\u001b[0m\u001b[0;32m      2\u001b[0m \u001b[0mrededict\u001b[0m\u001b[1;33m=\u001b[0m\u001b[0mjson\u001b[0m\u001b[1;33m.\u001b[0m\u001b[0mload\u001b[0m\u001b[1;33m(\u001b[0m\u001b[0mf\u001b[0m\u001b[1;33m)\u001b[0m\u001b[1;33m\u001b[0m\u001b[1;33m\u001b[0m\u001b[0m\n\u001b[0;32m      3\u001b[0m \u001b[0mprint\u001b[0m\u001b[1;33m(\u001b[0m\u001b[0mtype\u001b[0m\u001b[1;33m(\u001b[0m\u001b[0mrededict\u001b[0m\u001b[1;33m)\u001b[0m\u001b[1;33m)\u001b[0m\u001b[1;33m\u001b[0m\u001b[1;33m\u001b[0m\u001b[0m\n\u001b[0;32m      4\u001b[0m \u001b[1;33m\u001b[0m\u001b[0m\n\u001b[0;32m      5\u001b[0m \u001b[1;33m\u001b[0m\u001b[0m\n",
      "\u001b[1;31mFileNotFoundError\u001b[0m: [Errno 2] No such file or directory: 'NLP-Kommentare-Sentiment-Bundestag/BundestagsReden.json'"
     ]
    }
   ],
   "source": [
    "\n",
    "f=open (\"NLP-Kommentare-Sentiment-Bundestag/BundestagsReden.json\") #open json file; json object will be returned ad a dictionary\n",
    "rededict=json.load(f)\n",
    "print(type(rededict)) \n",
    "\n",
    "\n",
    "##Print all key names in the dictionary, one by one:\n",
    "for speechID in rededict:\n",
    "    print (speechID)\n",
    "    #print(len(speechAndComment1))\n",
    "    #print(type(speechAndComment1)) \n",
    "    #for partyspeech1 in speechAndComment1 []:\n",
    "      #  print (partyspeech1)\n",
    "   # for speechparty in speechID: \n",
    "    #    print (speechparty)\n",
    "\n",
    "\n",
    "        \n",
    "        "
   ]
  },
  {
   "cell_type": "code",
   "execution_count": null,
   "metadata": {},
   "outputs": [
    {
     "name": "stdout",
     "output_type": "stream",
     "text": [
      "U\n",
      "r\n",
      "[\n"
     ]
    }
   ],
   "source": [
    "# just a test \n",
    "for x in rededict[\"ID20100200\"]:\n",
    "    print(x[2][0][0])"
   ]
  },
  {
   "cell_type": "markdown",
   "metadata": {},
   "source": [
    "# Dictionary auslesen und Werte abspeichern\n",
    "-Möglichkeit suchen, alle Reden aufeinmal zu bearbeiten, z.B. via re.split(pattern,string, maxsplit=0, flags0=) die ID aufsplitten (ID, 20100600; ID, 20100700;...) wenn man es so aufgesplittet hat, müsste man via +100 durch die Reden durchiterieren können"
   ]
  },
  {
   "cell_type": "code",
   "execution_count": null,
   "metadata": {},
   "outputs": [
    {
     "name": "stdout",
     "output_type": "stream",
     "text": [
      "Rede der Fraktion:DIE LINKE\n",
      "Redeinhalt:Sehr geehrter Herr AltersprÃ¤sident Dr. SchÃ¤uble! Also, Herr Brandner, gleich in der ersten Sitzung die braune Widerlichkeitsskala in solche HÃ¶hen zu treiben,das ist immerhin respektvoll.Dass ausgerechnet Sie Willy Brandt zitieren, der gegen die Nazis gekÃ¤mpft hat, der niedergekniet ist vor den Opfern des Aufstandes im Warschauer Ghetto, dass ausgerechnet Sie, die in der Tradition der Nazis stehen,das hier anbringen, ist abartig, um das in aller Klarheit zu sagen. Abartig und ekelerregend!Liebe Kolleginnen und Kollegen, sehr geehrte Damen und Herren von der AfD,wenn ich mir die politische Lage angucke, dann finde ich zurzeit besonders wichtig: Wie entwickelt sich Corona? Ich finde es wichtig, darÃ¼ber zu diskutieren, wie wir Kinderarmut bekÃ¤mpfen kÃ¶nnen. Und ich mache mir groÃŸe Sorgen, dass sich hier eine Koalition anbahnt, in der das Soziale hinten runterfallen wird, weil die stabil marktradikale FDP dafÃ¼r schon sorgen wird.Das ist etwas, was mich und viele Menschen bewegt.Was ist der AfD wichtig? Der AfD ist wichtig: die Verunglimpfung von geschlechtergerechter Sprache. Das einzig Sinnvolle an Ihrem Ã„nderungsantrag ist, dass man sehen kann, wie parlamentarisch verblÃ¶det Sie eigentlich sind. Ich will Ihnen mal was sagen: Wir kÃ¶nnen an Ihrem Ã„nderungsantrag â€“ das ist das einzig Gute â€“ sehr gut erkennen, dass Sie offenbar in vier Jahren Bundestag nicht einmal einen Gesetzestext gelesen haben. Da gibt es kein Binnen-I, keine Doppelpunkte und keine Gendersternchen.Das ist so absurd, was Sie hier beantragen, weil es das gar nicht gibt in den Gesetzestexten. Also: VÃ¶llig fÃ¼r den Papierkorb, was Sie hier vorgelegt haben!Meine Fraktion wird die Vorlage der sozialdemokratischen Fraktion unterstÃ¼tzen; denn ich halte diese GeschÃ¤ftsordnung fÃ¼r eine gute Grundlage, auf der wir hier miteinander streiten und diskutieren kÃ¶nnen. Es findet unsere Zustimmung. Das bedeutet aber natÃ¼rlich nicht, dass die GeschÃ¤ftsordnung so bleibt, wie sie jetzt ist, sondern sie muss generalÃ¼berholt werden. Dazu will ich auch einige VorschlÃ¤ge machen; sie sind gar nicht alle explizit von mir. Ich habe mir noch mal die Reden zum Beginn der letzten Wahlperiode vom Kollegen Buschmann, der Kollegin HaÃŸelmann und vom Kollegen Schneider durchgelesen. Das sind ja sehr, sehr gute VorschlÃ¤ge gewesen. Carsten, die guten VorschlÃ¤ge scheiterten ja immer an der CDU/CSU. Das kÃ¶nnen wir jetzt Ã¤ndern, und deswegen werden wir natÃ¼rlich auch alle eure VorschlÃ¤ge hier einbringen.Und dann ist ja auch eine Mehrheit kein Problem, worÃ¼ber ich mich sehr freue.Ich halte es fÃ¼r zentral, dass wir endlich dazu kommen, Ausschusssitzungen Ã¶ffentlich zu machen. Ich finde, wir mÃ¼ssen das parlamentarische Fragerecht dringend stÃ¤rken und ausbauen. Ich finde, wir mÃ¼ssen darÃ¼ber diskutieren, wie wir die MÃ¶glichkeit von GroÃŸverdienern, durch Parteispenden Einfluss hier auf den Laden zu nehmen, endlich begrenzen kÃ¶nnen. Das ist eine zentrale Frage fÃ¼r die GlaubwÃ¼rdigkeit der Politik.Ich glaube darÃ¼ber hinaus â€“ das ist jetzt bitter fÃ¼r die FDP â€“, dass wir endlich GroÃŸspenden von Unternehmen verbieten mÃ¼ssen. Denn Politik darf nicht kÃ¤uflich sein. Da mÃ¼ssen Sie anders an Geld rankommen.So geht es auf jeden Fall nicht.Ich will noch einen letzten Punkt ansprechen, Ã¼ber den wir hier wirklich nachdenken mÃ¼ssen. Wenn Sie sich mal die Wahlbeteiligung angucken, kann man erkennen: Es ist eine soziale Frage. Wenn ich mir den Wahlkreis Starnberg angucke, sehe ich, dass wir dort eine Wahlbeteiligung von 80 Prozent haben. Bei mir in Sachsen-Anhalt, im Wahlkreis Anhalt, sind es gerade mal 65 Prozent.Das heiÃŸt also, diejenigen, die das hÃ¶chste Pro-Kopf-Einkommen haben, nehmen Ã¼berproportional ihre demokratischen Rechte wahr, und damit haben wir ein Ungleichgewicht in der parlamentarischen Demokratie. Wir mÃ¼ssen darÃ¼ber nachdenken, wie wir auch fÃ¼r Leute, diese zum Teil 35 Prozent, die nicht mehr an Wahlen teilnehmen, die sich abgemeldet haben, die Parlamente und das Parlamentsgeschehen so attraktiv machen kÃ¶nnen, dass sie sich angesprochen fÃ¼hlen.Last, but not least: Ich glaube, dass wir bei der Kontrolle und der Begrenzung des Lobbyismus jetzt wirklich weiterkommen kÃ¶nnen, liebe Freunde von der SPD; denn die Halbtagslobbyisten der CDU/CSU sitzen ja â€“ das ist das einzig Erfreuliche fÃ¼r meine Partei, kann man so sagen â€“ jetzt in der Opposition.Sie sind jetzt kein Hinderungsgrund mehr. Deswegen glaube ich, dass wir fÃ¼r die VorschlÃ¤ge der FDP, der GrÃ¼nen und der SPD â€“ die Linke ist immer fÃ¼r groÃŸe Reformen zu haben â€“, die ich in der nÃ¤chsten Woche einbringen werde und die zum Teil wortgleich von den GrÃ¼nen und der FDP kommen, hier eine Ã¼bergroÃŸe Mehrheit haben werden, und darÃ¼ber freuen wir uns.Alles Gute fÃ¼r die weitere Debatte!Liebe Kolleginnen und Kollegen! Herr Kollege Korte, wir waren uns eigentlich in der letzten Legislaturperiode einig, dass wir VorwÃ¼rfe, dass Fraktionen oder Kolleginnen und Kollegen in der Tradition der Nationalsozialisten stehen, als unparlamentarisch in diesem Hause nicht hÃ¶ren wollen.Mein Rat an meine Nachfolgerinund an alle, die es angeht â€“ Sie alle, mich eingeschlossen â€“, ist, dass wir daran auch in dieser Legislaturperiode festhalten.Damit schlieÃŸe ich die Aussprache.\n"
     ]
    }
   ],
   "source": [
    "redePartei = rededict['ID20100600'][0]\n",
    "print(\"Rede der Fraktion:\" + redePartei)\n",
    "\n",
    "redeInhalt = rededict['ID20100600'][1]\n",
    "print(\"Redeinhalt:\" + redeInhalt)\n",
    "\n",
    "#kommentarFraktion = \n",
    "#print(\"Kommentar-Fraktion\")\n",
    "\n",
    "#Gibt den ersten Kommentar der Rede ID20100600 aus\n",
    "\n",
    "#Wenn weitere Kommentare gesehen werden wollen, dann muss das X geändert werden -> [2][X][0]\n",
    "#print(rededict['ID20100600'][2][0][0])\n",
    "#print(\"Kommentar Inhalt\")\n",
    "\n",
    "#Gibt den Inhalt des ersten Kommentars der Rede ID20100600 aus.\n",
    "\n",
    "#Auch hier muss man an der zweiten Stelle die Zahl ändern um an die nächsten KOmmentar zu gelangen. 0, 1, 2 usw.\n",
    "#print(rededict['ID20100600'][2][0][1])\n",
    "#print(\"Rede der Fraktion:\")\n",
    "#print(rededict['ID20100600'][0])\n",
    "#print(\"Redeinhalt:\")\n",
    "#print(rededict['ID20100600'][1])\n",
    "\n"
   ]
  },
  {
   "cell_type": "markdown",
   "metadata": {},
   "source": [
    "# Start Preprocessing"
   ]
  },
  {
   "cell_type": "markdown",
   "metadata": {},
   "source": [
    "## Lowercase\n",
    "- kann man sich im Preprocessingteil eigentlich sparen; da es Stefan bereits beim Erstellen des Datensatzes macht"
   ]
  },
  {
   "cell_type": "code",
   "execution_count": null,
   "metadata": {},
   "outputs": [
    {
     "name": "stdout",
     "output_type": "stream",
     "text": [
      "<class 'str'>\n",
      "die linke\n",
      "sehr geehrter herr altersprã¤sident dr. schã¤uble! also, herr brandner, gleich in der ersten sitzung die braune widerlichkeitsskala in solche hã¶hen zu treiben,das ist immerhin respektvoll.dass ausgerechnet sie willy brandt zitieren, der gegen die nazis gekã¤mpft hat, der niedergekniet ist vor den opfern des aufstandes im warschauer ghetto, dass ausgerechnet sie, die in der tradition der nazis stehen,das hier anbringen, ist abartig, um das in aller klarheit zu sagen. abartig und ekelerregend!liebe kolleginnen und kollegen, sehr geehrte damen und herren von der afd,wenn ich mir die politische lage angucke, dann finde ich zurzeit besonders wichtig: wie entwickelt sich corona? ich finde es wichtig, darã¼ber zu diskutieren, wie wir kinderarmut bekã¤mpfen kã¶nnen. und ich mache mir groãÿe sorgen, dass sich hier eine koalition anbahnt, in der das soziale hinten runterfallen wird, weil die stabil marktradikale fdp dafã¼r schon sorgen wird.das ist etwas, was mich und viele menschen bewegt.was ist der afd wichtig? der afd ist wichtig: die verunglimpfung von geschlechtergerechter sprache. das einzig sinnvolle an ihrem ã„nderungsantrag ist, dass man sehen kann, wie parlamentarisch verblã¶det sie eigentlich sind. ich will ihnen mal was sagen: wir kã¶nnen an ihrem ã„nderungsantrag â€“ das ist das einzig gute â€“ sehr gut erkennen, dass sie offenbar in vier jahren bundestag nicht einmal einen gesetzestext gelesen haben. da gibt es kein binnen-i, keine doppelpunkte und keine gendersternchen.das ist so absurd, was sie hier beantragen, weil es das gar nicht gibt in den gesetzestexten. also: vã¶llig fã¼r den papierkorb, was sie hier vorgelegt haben!meine fraktion wird die vorlage der sozialdemokratischen fraktion unterstã¼tzen; denn ich halte diese geschã¤ftsordnung fã¼r eine gute grundlage, auf der wir hier miteinander streiten und diskutieren kã¶nnen. es findet unsere zustimmung. das bedeutet aber natã¼rlich nicht, dass die geschã¤ftsordnung so bleibt, wie sie jetzt ist, sondern sie muss generalã¼berholt werden. dazu will ich auch einige vorschlã¤ge machen; sie sind gar nicht alle explizit von mir. ich habe mir noch mal die reden zum beginn der letzten wahlperiode vom kollegen buschmann, der kollegin haãÿelmann und vom kollegen schneider durchgelesen. das sind ja sehr, sehr gute vorschlã¤ge gewesen. carsten, die guten vorschlã¤ge scheiterten ja immer an der cdu/csu. das kã¶nnen wir jetzt ã¤ndern, und deswegen werden wir natã¼rlich auch alle eure vorschlã¤ge hier einbringen.und dann ist ja auch eine mehrheit kein problem, worã¼ber ich mich sehr freue.ich halte es fã¼r zentral, dass wir endlich dazu kommen, ausschusssitzungen ã¶ffentlich zu machen. ich finde, wir mã¼ssen das parlamentarische fragerecht dringend stã¤rken und ausbauen. ich finde, wir mã¼ssen darã¼ber diskutieren, wie wir die mã¶glichkeit von groãÿverdienern, durch parteispenden einfluss hier auf den laden zu nehmen, endlich begrenzen kã¶nnen. das ist eine zentrale frage fã¼r die glaubwã¼rdigkeit der politik.ich glaube darã¼ber hinaus â€“ das ist jetzt bitter fã¼r die fdp â€“, dass wir endlich groãÿspenden von unternehmen verbieten mã¼ssen. denn politik darf nicht kã¤uflich sein. da mã¼ssen sie anders an geld rankommen.so geht es auf jeden fall nicht.ich will noch einen letzten punkt ansprechen, ã¼ber den wir hier wirklich nachdenken mã¼ssen. wenn sie sich mal die wahlbeteiligung angucken, kann man erkennen: es ist eine soziale frage. wenn ich mir den wahlkreis starnberg angucke, sehe ich, dass wir dort eine wahlbeteiligung von 80 prozent haben. bei mir in sachsen-anhalt, im wahlkreis anhalt, sind es gerade mal 65 prozent.das heiãÿt also, diejenigen, die das hã¶chste pro-kopf-einkommen haben, nehmen ã¼berproportional ihre demokratischen rechte wahr, und damit haben wir ein ungleichgewicht in der parlamentarischen demokratie. wir mã¼ssen darã¼ber nachdenken, wie wir auch fã¼r leute, diese zum teil 35 prozent, die nicht mehr an wahlen teilnehmen, die sich abgemeldet haben, die parlamente und das parlamentsgeschehen so attraktiv machen kã¶nnen, dass sie sich angesprochen fã¼hlen.last, but not least: ich glaube, dass wir bei der kontrolle und der begrenzung des lobbyismus jetzt wirklich weiterkommen kã¶nnen, liebe freunde von der spd; denn die halbtagslobbyisten der cdu/csu sitzen ja â€“ das ist das einzig erfreuliche fã¼r meine partei, kann man so sagen â€“ jetzt in der opposition.sie sind jetzt kein hinderungsgrund mehr. deswegen glaube ich, dass wir fã¼r die vorschlã¤ge der fdp, der grã¼nen und der spd â€“ die linke ist immer fã¼r groãÿe reformen zu haben â€“, die ich in der nã¤chsten woche einbringen werde und die zum teil wortgleich von den grã¼nen und der fdp kommen, hier eine ã¼bergroãÿe mehrheit haben werden, und darã¼ber freuen wir uns.alles gute fã¼r die weitere debatte!liebe kolleginnen und kollegen! herr kollege korte, wir waren uns eigentlich in der letzten legislaturperiode einig, dass wir vorwã¼rfe, dass fraktionen oder kolleginnen und kollegen in der tradition der nationalsozialisten stehen, als unparlamentarisch in diesem hause nicht hã¶ren wollen.mein rat an meine nachfolgerinund an alle, die es angeht â€“ sie alle, mich eingeschlossen â€“, ist, dass wir daran auch in dieser legislaturperiode festhalten.damit schlieãÿe ich die aussprache.\n",
      "<class 'str'>\n"
     ]
    }
   ],
   "source": [
    "print (type(redeInhalt))\n",
    "redePartei = redePartei.lower()\n",
    "print (redePartei)\n",
    "redeInhalt = redeInhalt.lower()\n",
    "print (redeInhalt)\n",
    "print (type(redeInhalt))"
   ]
  },
  {
   "cell_type": "markdown",
   "metadata": {},
   "source": [
    "## Lemmatazation\n",
    "- Grundform des Wortes\n",
    "- nltk hat keine Lemmatisierung/Wortarterkennung für Deutsch, daher hier der Hanover Tagger. Quelle: https://textmining.wp.hs-hannover.de/Preprocessing.html\n",
    "- das folgende ist Müll, muss baer nochmal mit **spacy** gemacht werden"
   ]
  },
  {
   "cell_type": "code",
   "execution_count": null,
   "metadata": {},
   "outputs": [
    {
     "name": "stdout",
     "output_type": "stream",
     "text": [
      "Requirement already satisfied: HanTa in c:\\users\\clara\\anaconda3\\lib\\site-packages (1.1.0)\n"
     ]
    }
   ],
   "source": [
    "!pip install HanTa\n",
    "from HanTa import HanoverTagger as ht\n",
    "tagger = ht.HanoverTagger(\"morphmodel_ger.pgz\")"
   ]
  },
  {
   "cell_type": "code",
   "execution_count": null,
   "metadata": {},
   "outputs": [
    {
     "name": "stdout",
     "output_type": "stream",
     "text": [
      "('mutter', [('mütter', 'NN_VAR')], 'NN')\n"
     ]
    }
   ],
   "source": [
    "print (tagger.analyze(\"Mütter\",\"Mum\", \"Mama\", \"Mutti\")) #analyze gibt Lemma und Wortart für eine Wortform aus "
   ]
  },
  {
   "cell_type": "code",
   "execution_count": null,
   "metadata": {},
   "outputs": [],
   "source": [
    "redeInhalt_lemma = tagger.analyze(redeInhalt)\n",
    "print(redeInhalt_lemma)"
   ]
  },
  {
   "cell_type": "markdown",
   "metadata": {},
   "source": [
    "## POS-Tagging\n",
    "- \"Ein part of speech-Tagging (POS-Tagging) ermöglicht Ihnen die getrennte Untersuchung \n",
    "von ausgewählten Wortgruppen. Einige Forscher betreiben Topic Modeling beispielsweise \n",
    "ausschließlich mit Substantiven (vgl. Jockers 2013).\" (fortext-topic modeling)\n",
    "- brauchen wir das?\n",
    "\n",
    "## NER\n",
    "-\"Eine Annotation der Named Entites ermöglicht es Ihnen, alle Eigennamen gebündelt aus dem Topic Modeling auszuschließen. Alternativ müssen Sie die in den Topics auftauchenden Eigennamen nach jedem Durchgang auf die Stoppwortliste setzen, wenn sie nicht in den Ergebnissen vertreten sein sollen – zur Problematik von Eigennamen im Topic Modeling (vgl. Jockers 2013). (Mehr zur → Named Entity Recognition (NER))\" (fortext- topic modeling (https://fortext.net/routinen/methoden/topic-modeling))\n",
    "- brauchen wir das? "
   ]
  },
  {
   "cell_type": "markdown",
   "metadata": {},
   "source": [
    "## Unerwünschte Symbole/Zeichen entfernen (remove special characters)"
   ]
  },
  {
   "cell_type": "code",
   "execution_count": null,
   "metadata": {},
   "outputs": [],
   "source": [
    "import string \n",
    "import re #regular expression (regex): returns a string where all matching occurrences of the \n",
    "          #specified pattern are replaced by the replace string"
   ]
  },
  {
   "cell_type": "markdown",
   "metadata": {},
   "source": [
    "### RegEx Exkurs\n",
    "- in python: import re\n",
    "    - UPPERCASE LETTER. [A-Z]\n",
    "    - lowercase letters [a-z]\n",
    "    - numbers [0-9]\n",
    "    - Punkt \\.\n",
    "- Beispiel:\n",
    "    - Mustersuche: \n",
    "        -Email\n",
    "            - beginnt immer mit einem Buchstaben und einer Zahl, auf welches ein @-Zeichen, irgendwelche Buchstaben, ein Punkt, com/edu folgt: \n",
    "            - Code: pattern = \"[a-zA-Z0-9]+@[a-zA-Z]+\\.+(com|edu|net)\"\n",
    "    "
   ]
  },
  {
   "cell_type": "code",
   "execution_count": null,
   "metadata": {},
   "outputs": [],
   "source": [
    "##RegEx testen\n",
    "redeInhalt_ohnea = re.sub(\"a\", \"\", redeInhalt)\n",
    "#print (redeInhalt_ohnea)"
   ]
  },
  {
   "cell_type": "code",
   "execution_count": null,
   "metadata": {},
   "outputs": [
    {
     "name": "stdout",
     "output_type": "stream",
     "text": [
      "sehr geehrter herr altersprã¤sident dr. schã¤uble! also  herr brandner  gleich in der ersten sitzung die braune widerlichkeitsskala in solche hã¶hen zu treiben das ist immerhin respektvoll.dass ausgerechnet sie willy brandt zitieren  der gegen die nazis gekã¤mpft hat  der niedergekniet ist vor den opfern des aufstandes im warschauer ghetto  dass ausgerechnet sie  die in der tradition der nazis stehen das hier anbringen  ist abartig  um das in aller klarheit zu sagen. abartig und ekelerregend!liebe kolleginnen und kollegen  sehr geehrte damen und herren von der afd wenn ich mir die politische lage angucke  dann finde ich zurzeit besonders wichtig: wie entwickelt sich corona? ich finde es wichtig  darã¼ber zu diskutieren  wie wir kinderarmut bekã¤mpfen kã¶nnen. und ich mache mir groãÿe sorgen  dass sich hier eine koalition anbahnt  in der das soziale hinten runterfallen wird  weil die stabil marktradikale fdp dafã¼r schon sorgen wird.das ist etwas  was mich und viele menschen bewegt.was ist der afd wichtig? der afd ist wichtig: die verunglimpfung von geschlechtergerechter sprache. das einzig sinnvolle an ihrem ã„nderungsantrag ist  dass man sehen kann  wie parlamentarisch verblã¶det sie eigentlich sind. ich will ihnen mal was sagen: wir kã¶nnen an ihrem ã„nderungsantrag â€“ das ist das einzig gute â€“ sehr gut erkennen  dass sie offenbar in vier jahren bundestag nicht einmal einen gesetzestext gelesen haben. da gibt es kein binnen-i  keine doppelpunkte und keine gendersternchen.das ist so absurd  was sie hier beantragen  weil es das gar nicht gibt in den gesetzestexten. also: vã¶llig fã¼r den papierkorb  was sie hier vorgelegt haben!meine fraktion wird die vorlage der sozialdemokratischen fraktion unterstã¼tzen; denn ich halte diese geschã¤ftsordnung fã¼r eine gute grundlage  auf der wir hier miteinander streiten und diskutieren kã¶nnen. es findet unsere zustimmung. das bedeutet aber natã¼rlich nicht  dass die geschã¤ftsordnung so bleibt  wie sie jetzt ist  sondern sie muss generalã¼berholt werden. dazu will ich auch einige vorschlã¤ge machen; sie sind gar nicht alle explizit von mir. ich habe mir noch mal die reden zum beginn der letzten wahlperiode vom kollegen buschmann  der kollegin haãÿelmann und vom kollegen schneider durchgelesen. das sind ja sehr  sehr gute vorschlã¤ge gewesen. carsten  die guten vorschlã¤ge scheiterten ja immer an der cdu/csu. das kã¶nnen wir jetzt ã¤ndern  und deswegen werden wir natã¼rlich auch alle eure vorschlã¤ge hier einbringen.und dann ist ja auch eine mehrheit kein problem  worã¼ber ich mich sehr freue.ich halte es fã¼r zentral  dass wir endlich dazu kommen  ausschusssitzungen ã¶ffentlich zu machen. ich finde  wir mã¼ssen das parlamentarische fragerecht dringend stã¤rken und ausbauen. ich finde  wir mã¼ssen darã¼ber diskutieren  wie wir die mã¶glichkeit von groãÿverdienern  durch parteispenden einfluss hier auf den laden zu nehmen  endlich begrenzen kã¶nnen. das ist eine zentrale frage fã¼r die glaubwã¼rdigkeit der politik.ich glaube darã¼ber hinaus â€“ das ist jetzt bitter fã¼r die fdp â€“  dass wir endlich groãÿspenden von unternehmen verbieten mã¼ssen. denn politik darf nicht kã¤uflich sein. da mã¼ssen sie anders an geld rankommen.so geht es auf jeden fall nicht.ich will noch einen letzten punkt ansprechen  ã¼ber den wir hier wirklich nachdenken mã¼ssen. wenn sie sich mal die wahlbeteiligung angucken  kann man erkennen: es ist eine soziale frage. wenn ich mir den wahlkreis starnberg angucke  sehe ich  dass wir dort eine wahlbeteiligung von 80 prozent haben. bei mir in sachsen-anhalt  im wahlkreis anhalt  sind es gerade mal 65 prozent.das heiãÿt also  diejenigen  die das hã¶chste pro-kopf-einkommen haben  nehmen ã¼berproportional ihre demokratischen rechte wahr  und damit haben wir ein ungleichgewicht in der parlamentarischen demokratie. wir mã¼ssen darã¼ber nachdenken  wie wir auch fã¼r leute  diese zum teil 35 prozent  die nicht mehr an wahlen teilnehmen  die sich abgemeldet haben  die parlamente und das parlamentsgeschehen so attraktiv machen kã¶nnen  dass sie sich angesprochen fã¼hlen.last  but not least: ich glaube  dass wir bei der kontrolle und der begrenzung des lobbyismus jetzt wirklich weiterkommen kã¶nnen  liebe freunde von der spd; denn die halbtagslobbyisten der cdu/csu sitzen ja â€“ das ist das einzig erfreuliche fã¼r meine partei  kann man so sagen â€“ jetzt in der opposition.sie sind jetzt kein hinderungsgrund mehr. deswegen glaube ich  dass wir fã¼r die vorschlã¤ge der fdp  der grã¼nen und der spd â€“ die linke ist immer fã¼r groãÿe reformen zu haben â€“  die ich in der nã¤chsten woche einbringen werde und die zum teil wortgleich von den grã¼nen und der fdp kommen  hier eine ã¼bergroãÿe mehrheit haben werden  und darã¼ber freuen wir uns.alles gute fã¼r die weitere debatte!liebe kolleginnen und kollegen! herr kollege korte  wir waren uns eigentlich in der letzten legislaturperiode einig  dass wir vorwã¼rfe  dass fraktionen oder kolleginnen und kollegen in der tradition der nationalsozialisten stehen  als unparlamentarisch in diesem hause nicht hã¶ren wollen.mein rat an meine nachfolgerinund an alle  die es angeht â€“ sie alle  mich eingeschlossen â€“  ist  dass wir daran auch in dieser legislaturperiode festhalten.damit schlieãÿe ich die aussprache.\n"
     ]
    }
   ],
   "source": [
    "redeInhalt_ohneKomma = re.sub(\",\", \" \", redeInhalt)\n",
    "print (redeInhalt_ohneKomma)\n",
    "redeInhalt_ohnePunkt = re.sub(\"\\.\", \" \", redeInhalt) ##klappt noch nicht; müsste auch noch evtl. erst überprüft werden, ob der Punkt nach einem dr steht, obwohl man es da auch rausschmeißen könnte?\n",
    "#print (redeInhalt_ohnePunkt)\n",
    "\n"
   ]
  },
  {
   "cell_type": "markdown",
   "metadata": {},
   "source": [
    "### falsche Zeichen ersetzen\n",
    "- nachdem alles in Kleinbuchstaben verwandelt wurde gemacht \n",
    "- wenn man beim laden der daten utf-8 nutzt kann man sich das folgende höchstwahrscheinlich sparen **(testen!)**"
   ]
  },
  {
   "cell_type": "code",
   "execution_count": null,
   "metadata": {},
   "outputs": [
    {
     "name": "stdout",
     "output_type": "stream",
     "text": [
      "sehr geehrter herr alterspräsident dr. schäuble! also, herr brandner, gleich in der ersten sitzung die braune widerlichkeitsskala in solche höhen zu treiben,das ist immerhin respektvoll.dass ausgerechnet sie willy brandt zitieren, der gegen die nazis gekämpft hat, der niedergekniet ist vor den opfern des aufstandes im warschauer ghetto, dass ausgerechnet sie, die in der tradition der nazis stehen,das hier anbringen, ist abartig, um das in aller klarheit zu sagen. abartig und ekelerregend!liebe kolleginnen und kollegen, sehr geehrte damen und herren von der afd,wenn ich mir die politische lage angucke, dann finde ich zurzeit besonders wichtig: wie entwickelt sich corona? ich finde es wichtig, darüber zu diskutieren, wie wir kinderarmut bekämpfen können. und ich mache mir große sorgen, dass sich hier eine koalition anbahnt, in der das soziale hinten runterfallen wird, weil die stabil marktradikale fdp dafür schon sorgen wird.das ist etwas, was mich und viele menschen bewegt.was ist der afd wichtig? der afd ist wichtig: die verunglimpfung von geschlechtergerechter sprache. das einzig sinnvolle an ihrem änderungsantrag ist, dass man sehen kann, wie parlamentarisch verblödet sie eigentlich sind. ich will ihnen mal was sagen: wir können an ihrem änderungsantrag - das ist das einzig gute - sehr gut erkennen, dass sie offenbar in vier jahren bundestag nicht einmal einen gesetzestext gelesen haben. da gibt es kein binnen-i, keine doppelpunkte und keine gendersternchen.das ist so absurd, was sie hier beantragen, weil es das gar nicht gibt in den gesetzestexten. also: völlig für den papierkorb, was sie hier vorgelegt haben!meine fraktion wird die vorlage der sozialdemokratischen fraktion unterstützen; denn ich halte diese geschäftsordnung für eine gute grundlage, auf der wir hier miteinander streiten und diskutieren können. es findet unsere zustimmung. das bedeutet aber natürlich nicht, dass die geschäftsordnung so bleibt, wie sie jetzt ist, sondern sie muss generalüberholt werden. dazu will ich auch einige vorschläge machen; sie sind gar nicht alle explizit von mir. ich habe mir noch mal die reden zum beginn der letzten wahlperiode vom kollegen buschmann, der kollegin haßelmann und vom kollegen schneider durchgelesen. das sind ja sehr, sehr gute vorschläge gewesen. carsten, die guten vorschläge scheiterten ja immer an der cdu/csu. das können wir jetzt ändern, und deswegen werden wir natürlich auch alle eure vorschläge hier einbringen.und dann ist ja auch eine mehrheit kein problem, worüber ich mich sehr freue.ich halte es für zentral, dass wir endlich dazu kommen, ausschusssitzungen öffentlich zu machen. ich finde, wir müssen das parlamentarische fragerecht dringend stärken und ausbauen. ich finde, wir müssen darüber diskutieren, wie wir die möglichkeit von großverdienern, durch parteispenden einfluss hier auf den laden zu nehmen, endlich begrenzen können. das ist eine zentrale frage für die glaubwürdigkeit der politik.ich glaube darüber hinaus - das ist jetzt bitter für die fdp -, dass wir endlich großspenden von unternehmen verbieten müssen. denn politik darf nicht käuflich sein. da müssen sie anders an geld rankommen.so geht es auf jeden fall nicht.ich will noch einen letzten punkt ansprechen, über den wir hier wirklich nachdenken müssen. wenn sie sich mal die wahlbeteiligung angucken, kann man erkennen: es ist eine soziale frage. wenn ich mir den wahlkreis starnberg angucke, sehe ich, dass wir dort eine wahlbeteiligung von 80 prozent haben. bei mir in sachsen-anhalt, im wahlkreis anhalt, sind es gerade mal 65 prozent.das heißt also, diejenigen, die das höchste pro-kopf-einkommen haben, nehmen überproportional ihre demokratischen rechte wahr, und damit haben wir ein ungleichgewicht in der parlamentarischen demokratie. wir müssen darüber nachdenken, wie wir auch für leute, diese zum teil 35 prozent, die nicht mehr an wahlen teilnehmen, die sich abgemeldet haben, die parlamente und das parlamentsgeschehen so attraktiv machen können, dass sie sich angesprochen fühlen.last, but not least: ich glaube, dass wir bei der kontrolle und der begrenzung des lobbyismus jetzt wirklich weiterkommen können, liebe freunde von der spd; denn die halbtagslobbyisten der cdu/csu sitzen ja - das ist das einzig erfreuliche für meine partei, kann man so sagen - jetzt in der opposition.sie sind jetzt kein hinderungsgrund mehr. deswegen glaube ich, dass wir für die vorschläge der fdp, der grünen und der spd - die linke ist immer für große reformen zu haben -, die ich in der nächsten woche einbringen werde und die zum teil wortgleich von den grünen und der fdp kommen, hier eine übergroße mehrheit haben werden, und darüber freuen wir uns.alles gute für die weitere debatte!liebe kolleginnen und kollegen! herr kollege korte, wir waren uns eigentlich in der letzten legislaturperiode einig, dass wir vorwürfe, dass fraktionen oder kolleginnen und kollegen in der tradition der nationalsozialisten stehen, als unparlamentarisch in diesem hause nicht hören wollen.mein rat an meine nachfolgerinund an alle, die es angeht - sie alle, mich eingeschlossen -, ist, dass wir daran auch in dieser legislaturperiode festhalten.damit schließe ich die aussprache.\n"
     ]
    }
   ],
   "source": [
    "redeInhalt = re.sub(\"ã¤\", \"ä\", redeInhalt)\n",
    "redeInhalt = re.sub (\"ã¶\", \"ö\", redeInhalt)\n",
    "redeInhalt = re.sub (\"ã¼\", \"ü\", redeInhalt)\n",
    "redeInhalt = re.sub (\"ã„\", \"ä\", redeInhalt)\n",
    "redeInhalt = re.sub (\"â€“\", \"-\", redeInhalt)\n",
    "redeInhalt = re.sub (\"ãÿ\", \"ß\", redeInhalt)\n",
    "print(redeInhalt)"
   ]
  },
  {
   "cell_type": "markdown",
   "metadata": {},
   "source": [
    "### sinnlose Satzzeichen entfernen\n",
    "- zunächst mit einer leerzeile ersetzen, da zum teil nach einem punkt kein leerzeichen steht\n",
    "- in 2. schritt: doppelte Leerzeichen entfernen"
   ]
  },
  {
   "cell_type": "code",
   "execution_count": null,
   "metadata": {},
   "outputs": [
    {
     "name": "stdout",
     "output_type": "stream",
     "text": [
      "sehr geehrter herr alterspräsident dr schäuble also herr brandner gleich in der ersten sitzung die braune widerlichkeitsskala in solche höhen zu treiben das ist immerhin respektvoll dass ausgerechnet sie willy brandt zitieren der gegen die nazis gekämpft hat der niedergekniet ist vor den opfern des aufstandes im warschauer ghetto dass ausgerechnet sie die in der tradition der nazis stehen das hier anbringen ist abartig um das in aller klarheit zu sagen abartig und ekelerregend liebe kolleginnen und kollegen sehr geehrte damen und herren von der afd wenn ich mir die politische lage angucke dann finde ich zurzeit besonders wichtig wie entwickelt sich corona ich finde es wichtig darüber zu diskutieren wie wir kinderarmut bekämpfen können und ich mache mir große sorgen dass sich hier eine koalition anbahnt in der das soziale hinten runterfallen wird weil die stabil marktradikale fdp dafür schon sorgen wird das ist etwas was mich und viele menschen bewegt was ist der afd wichtig der afd ist wichtig die verunglimpfung von geschlechtergerechter sprache das einzig sinnvolle an ihrem änderungsantrag ist dass man sehen kann wie parlamentarisch verblödet sie eigentlich sind ich will ihnen mal was sagen wir können an ihrem änderungsantrag  das ist das einzig gute  sehr gut erkennen dass sie offenbar in vier jahren bundestag nicht einmal einen gesetzestext gelesen haben da gibt es kein binnen i keine doppelpunkte und keine gendersternchen das ist so absurd was sie hier beantragen weil es das gar nicht gibt in den gesetzestexten also völlig für den papierkorb was sie hier vorgelegt haben meine fraktion wird die vorlage der sozialdemokratischen fraktion unterstützen denn ich halte diese geschäftsordnung für eine gute grundlage auf der wir hier miteinander streiten und diskutieren können es findet unsere zustimmung das bedeutet aber natürlich nicht dass die geschäftsordnung so bleibt wie sie jetzt ist sondern sie muss generalüberholt werden dazu will ich auch einige vorschläge machen sie sind gar nicht alle explizit von mir ich habe mir noch mal die reden zum beginn der letzten wahlperiode vom kollegen buschmann der kollegin haßelmann und vom kollegen schneider durchgelesen das sind ja sehr sehr gute vorschläge gewesen carsten die guten vorschläge scheiterten ja immer an der cdu csu das können wir jetzt ändern und deswegen werden wir natürlich auch alle eure vorschläge hier einbringen und dann ist ja auch eine mehrheit kein problem worüber ich mich sehr freue ich halte es für zentral dass wir endlich dazu kommen ausschusssitzungen öffentlich zu machen ich finde wir müssen das parlamentarische fragerecht dringend stärken und ausbauen ich finde wir müssen darüber diskutieren wie wir die möglichkeit von großverdienern durch parteispenden einfluss hier auf den laden zu nehmen endlich begrenzen können das ist eine zentrale frage für die glaubwürdigkeit der politik ich glaube darüber hinaus  das ist jetzt bitter für die fdp  dass wir endlich großspenden von unternehmen verbieten müssen denn politik darf nicht käuflich sein da müssen sie anders an geld rankommen so geht es auf jeden fall nicht ich will noch einen letzten punkt ansprechen über den wir hier wirklich nachdenken müssen wenn sie sich mal die wahlbeteiligung angucken kann man erkennen es ist eine soziale frage wenn ich mir den wahlkreis starnberg angucke sehe ich dass wir dort eine wahlbeteiligung von 80 prozent haben bei mir in sachsen anhalt im wahlkreis anhalt sind es gerade mal 65 prozent das heißt also diejenigen die das höchste pro kopf einkommen haben nehmen überproportional ihre demokratischen rechte wahr und damit haben wir ein ungleichgewicht in der parlamentarischen demokratie wir müssen darüber nachdenken wie wir auch für leute diese zum teil 35 prozent die nicht mehr an wahlen teilnehmen die sich abgemeldet haben die parlamente und das parlamentsgeschehen so attraktiv machen können dass sie sich angesprochen fühlen last but not least ich glaube dass wir bei der kontrolle und der begrenzung des lobbyismus jetzt wirklich weiterkommen können liebe freunde von der spd denn die halbtagslobbyisten der cdu csu sitzen ja  das ist das einzig erfreuliche für meine partei kann man so sagen  jetzt in der opposition sie sind jetzt kein hinderungsgrund mehr deswegen glaube ich dass wir für die vorschläge der fdp der grünen und der spd  die linke ist immer für große reformen zu haben  die ich in der nächsten woche einbringen werde und die zum teil wortgleich von den grünen und der fdp kommen hier eine übergroße mehrheit haben werden und darüber freuen wir uns alles gute für die weitere debatte liebe kolleginnen und kollegen herr kollege korte wir waren uns eigentlich in der letzten legislaturperiode einig dass wir vorwürfe dass fraktionen oder kolleginnen und kollegen in der tradition der nationalsozialisten stehen als unparlamentarisch in diesem hause nicht hören wollen mein rat an meine nachfolgerinund an alle die es angeht  sie alle mich eingeschlossen  ist dass wir daran auch in dieser legislaturperiode festhalten damit schließe ich die aussprache \n"
     ]
    }
   ],
   "source": [
    "redeInhalt_ohneShit = re.sub(\"\\W\", \" \", redeInhalt) #\\W Entspricht einem Zeichen, das kein Buchstabe, keine Ziffer und kein Unterstrich ist.\n",
    "#print(redeInhalt_ohneShit)###vllt \\W besser nicht benutzen, da auch bindestriche, wie z.b. bei binnen-i wegfallen \n",
    "redeInhalt_ohneDoppelLeer = re.sub(\"  \", \" \", redeInhalt_ohneShit)\n",
    "print (redeInhalt_ohneDoppelLeer)"
   ]
  },
  {
   "cell_type": "code",
   "execution_count": null,
   "metadata": {},
   "outputs": [],
   "source": [
    "## hier evtl. noch alle regex Prozesse in eine Funktion packen\n",
    "def regexPreprocessing (text):\n",
    "    "
   ]
  },
  {
   "cell_type": "markdown",
   "metadata": {},
   "source": [
    "## Tokenization \n",
    "- hier wird nltk benötigt\n",
    "- tokenizen nach wörtern. tokenization nach sätzen wird für TM nicht benötigt, sondern nur für SA, ODER??\n",
    "?????????????????????????????????????????????"
   ]
  },
  {
   "cell_type": "code",
   "execution_count": null,
   "metadata": {},
   "outputs": [],
   "source": [
    "redeInhalt_tokenWord = nltk.word_tokenize(redeInhalt_ohneDoppelLeer, language=\"german\") #kann man nur einmal durchlaufen lassen; da es danach zu\n",
    "                                                                #einer Liste wird. Geht nur mit String! auch lowercase geht \n",
    "                                                                # danach nicht mehr \n"
   ]
  },
  {
   "cell_type": "code",
   "execution_count": null,
   "metadata": {},
   "outputs": [
    {
     "name": "stdout",
     "output_type": "stream",
     "text": [
      "<class 'list'>\n",
      "['sehr', 'geehrter', 'herr', 'alterspräsident', 'dr', 'schäuble', 'also', 'herr', 'brandner', 'gleich', 'in', 'der', 'ersten', 'sitzung', 'die', 'braune', 'widerlichkeitsskala', 'in', 'solche', 'höhen', 'zu', 'treiben', 'das', 'ist', 'immerhin', 'respektvoll', 'dass', 'ausgerechnet', 'sie', 'willy', 'brandt', 'zitieren', 'der', 'gegen', 'die', 'nazis', 'gekämpft', 'hat', 'der', 'niedergekniet', 'ist', 'vor', 'den', 'opfern', 'des', 'aufstandes', 'im', 'warschauer', 'ghetto', 'dass', 'ausgerechnet', 'sie', 'die', 'in', 'der', 'tradition', 'der', 'nazis', 'stehen', 'das', 'hier', 'anbringen', 'ist', 'abartig', 'um', 'das', 'in', 'aller', 'klarheit', 'zu', 'sagen', 'abartig', 'und', 'ekelerregend', 'liebe', 'kolleginnen', 'und', 'kollegen', 'sehr', 'geehrte', 'damen', 'und', 'herren', 'von', 'der', 'afd', 'wenn', 'ich', 'mir', 'die', 'politische', 'lage', 'angucke', 'dann', 'finde', 'ich', 'zurzeit', 'besonders', 'wichtig', 'wie', 'entwickelt', 'sich', 'corona', 'ich', 'finde', 'es', 'wichtig', 'darüber', 'zu', 'diskutieren', 'wie', 'wir', 'kinderarmut', 'bekämpfen', 'können', 'und', 'ich', 'mache', 'mir', 'große', 'sorgen', 'dass', 'sich', 'hier', 'eine', 'koalition', 'anbahnt', 'in', 'der', 'das', 'soziale', 'hinten', 'runterfallen', 'wird', 'weil', 'die', 'stabil', 'marktradikale', 'fdp', 'dafür', 'schon', 'sorgen', 'wird', 'das', 'ist', 'etwas', 'was', 'mich', 'und', 'viele', 'menschen', 'bewegt', 'was', 'ist', 'der', 'afd', 'wichtig', 'der', 'afd', 'ist', 'wichtig', 'die', 'verunglimpfung', 'von', 'geschlechtergerechter', 'sprache', 'das', 'einzig', 'sinnvolle', 'an', 'ihrem', 'änderungsantrag', 'ist', 'dass', 'man', 'sehen', 'kann', 'wie', 'parlamentarisch', 'verblödet', 'sie', 'eigentlich', 'sind', 'ich', 'will', 'ihnen', 'mal', 'was', 'sagen', 'wir', 'können', 'an', 'ihrem', 'änderungsantrag', 'das', 'ist', 'das', 'einzig', 'gute', 'sehr', 'gut', 'erkennen', 'dass', 'sie', 'offenbar', 'in', 'vier', 'jahren', 'bundestag', 'nicht', 'einmal', 'einen', 'gesetzestext', 'gelesen', 'haben', 'da', 'gibt', 'es', 'kein', 'binnen', 'i', 'keine', 'doppelpunkte', 'und', 'keine', 'gendersternchen', 'das', 'ist', 'so', 'absurd', 'was', 'sie', 'hier', 'beantragen', 'weil', 'es', 'das', 'gar', 'nicht', 'gibt', 'in', 'den', 'gesetzestexten', 'also', 'völlig', 'für', 'den', 'papierkorb', 'was', 'sie', 'hier', 'vorgelegt', 'haben', 'meine', 'fraktion', 'wird', 'die', 'vorlage', 'der', 'sozialdemokratischen', 'fraktion', 'unterstützen', 'denn', 'ich', 'halte', 'diese', 'geschäftsordnung', 'für', 'eine', 'gute', 'grundlage', 'auf', 'der', 'wir', 'hier', 'miteinander', 'streiten', 'und', 'diskutieren', 'können', 'es', 'findet', 'unsere', 'zustimmung', 'das', 'bedeutet', 'aber', 'natürlich', 'nicht', 'dass', 'die', 'geschäftsordnung', 'so', 'bleibt', 'wie', 'sie', 'jetzt', 'ist', 'sondern', 'sie', 'muss', 'generalüberholt', 'werden', 'dazu', 'will', 'ich', 'auch', 'einige', 'vorschläge', 'machen', 'sie', 'sind', 'gar', 'nicht', 'alle', 'explizit', 'von', 'mir', 'ich', 'habe', 'mir', 'noch', 'mal', 'die', 'reden', 'zum', 'beginn', 'der', 'letzten', 'wahlperiode', 'vom', 'kollegen', 'buschmann', 'der', 'kollegin', 'haßelmann', 'und', 'vom', 'kollegen', 'schneider', 'durchgelesen', 'das', 'sind', 'ja', 'sehr', 'sehr', 'gute', 'vorschläge', 'gewesen', 'carsten', 'die', 'guten', 'vorschläge', 'scheiterten', 'ja', 'immer', 'an', 'der', 'cdu', 'csu', 'das', 'können', 'wir', 'jetzt', 'ändern', 'und', 'deswegen', 'werden', 'wir', 'natürlich', 'auch', 'alle', 'eure', 'vorschläge', 'hier', 'einbringen', 'und', 'dann', 'ist', 'ja', 'auch', 'eine', 'mehrheit', 'kein', 'problem', 'worüber', 'ich', 'mich', 'sehr', 'freue', 'ich', 'halte', 'es', 'für', 'zentral', 'dass', 'wir', 'endlich', 'dazu', 'kommen', 'ausschusssitzungen', 'öffentlich', 'zu', 'machen', 'ich', 'finde', 'wir', 'müssen', 'das', 'parlamentarische', 'fragerecht', 'dringend', 'stärken', 'und', 'ausbauen', 'ich', 'finde', 'wir', 'müssen', 'darüber', 'diskutieren', 'wie', 'wir', 'die', 'möglichkeit', 'von', 'großverdienern', 'durch', 'parteispenden', 'einfluss', 'hier', 'auf', 'den', 'laden', 'zu', 'nehmen', 'endlich', 'begrenzen', 'können', 'das', 'ist', 'eine', 'zentrale', 'frage', 'für', 'die', 'glaubwürdigkeit', 'der', 'politik', 'ich', 'glaube', 'darüber', 'hinaus', 'das', 'ist', 'jetzt', 'bitter', 'für', 'die', 'fdp', 'dass', 'wir', 'endlich', 'großspenden', 'von', 'unternehmen', 'verbieten', 'müssen', 'denn', 'politik', 'darf', 'nicht', 'käuflich', 'sein', 'da', 'müssen', 'sie', 'anders', 'an', 'geld', 'rankommen', 'so', 'geht', 'es', 'auf', 'jeden', 'fall', 'nicht', 'ich', 'will', 'noch', 'einen', 'letzten', 'punkt', 'ansprechen', 'über', 'den', 'wir', 'hier', 'wirklich', 'nachdenken', 'müssen', 'wenn', 'sie', 'sich', 'mal', 'die', 'wahlbeteiligung', 'angucken', 'kann', 'man', 'erkennen', 'es', 'ist', 'eine', 'soziale', 'frage', 'wenn', 'ich', 'mir', 'den', 'wahlkreis', 'starnberg', 'angucke', 'sehe', 'ich', 'dass', 'wir', 'dort', 'eine', 'wahlbeteiligung', 'von', '80', 'prozent', 'haben', 'bei', 'mir', 'in', 'sachsen', 'anhalt', 'im', 'wahlkreis', 'anhalt', 'sind', 'es', 'gerade', 'mal', '65', 'prozent', 'das', 'heißt', 'also', 'diejenigen', 'die', 'das', 'höchste', 'pro', 'kopf', 'einkommen', 'haben', 'nehmen', 'überproportional', 'ihre', 'demokratischen', 'rechte', 'wahr', 'und', 'damit', 'haben', 'wir', 'ein', 'ungleichgewicht', 'in', 'der', 'parlamentarischen', 'demokratie', 'wir', 'müssen', 'darüber', 'nachdenken', 'wie', 'wir', 'auch', 'für', 'leute', 'diese', 'zum', 'teil', '35', 'prozent', 'die', 'nicht', 'mehr', 'an', 'wahlen', 'teilnehmen', 'die', 'sich', 'abgemeldet', 'haben', 'die', 'parlamente', 'und', 'das', 'parlamentsgeschehen', 'so', 'attraktiv', 'machen', 'können', 'dass', 'sie', 'sich', 'angesprochen', 'fühlen', 'last', 'but', 'not', 'least', 'ich', 'glaube', 'dass', 'wir', 'bei', 'der', 'kontrolle', 'und', 'der', 'begrenzung', 'des', 'lobbyismus', 'jetzt', 'wirklich', 'weiterkommen', 'können', 'liebe', 'freunde', 'von', 'der', 'spd', 'denn', 'die', 'halbtagslobbyisten', 'der', 'cdu', 'csu', 'sitzen', 'ja', 'das', 'ist', 'das', 'einzig', 'erfreuliche', 'für', 'meine', 'partei', 'kann', 'man', 'so', 'sagen', 'jetzt', 'in', 'der', 'opposition', 'sie', 'sind', 'jetzt', 'kein', 'hinderungsgrund', 'mehr', 'deswegen', 'glaube', 'ich', 'dass', 'wir', 'für', 'die', 'vorschläge', 'der', 'fdp', 'der', 'grünen', 'und', 'der', 'spd', 'die', 'linke', 'ist', 'immer', 'für', 'große', 'reformen', 'zu', 'haben', 'die', 'ich', 'in', 'der', 'nächsten', 'woche', 'einbringen', 'werde', 'und', 'die', 'zum', 'teil', 'wortgleich', 'von', 'den', 'grünen', 'und', 'der', 'fdp', 'kommen', 'hier', 'eine', 'übergroße', 'mehrheit', 'haben', 'werden', 'und', 'darüber', 'freuen', 'wir', 'uns', 'alles', 'gute', 'für', 'die', 'weitere', 'debatte', 'liebe', 'kolleginnen', 'und', 'kollegen', 'herr', 'kollege', 'korte', 'wir', 'waren', 'uns', 'eigentlich', 'in', 'der', 'letzten', 'legislaturperiode', 'einig', 'dass', 'wir', 'vorwürfe', 'dass', 'fraktionen', 'oder', 'kolleginnen', 'und', 'kollegen', 'in', 'der', 'tradition', 'der', 'nationalsozialisten', 'stehen', 'als', 'unparlamentarisch', 'in', 'diesem', 'hause', 'nicht', 'hören', 'wollen', 'mein', 'rat', 'an', 'meine', 'nachfolgerinund', 'an', 'alle', 'die', 'es', 'angeht', 'sie', 'alle', 'mich', 'eingeschlossen', 'ist', 'dass', 'wir', 'daran', 'auch', 'in', 'dieser', 'legislaturperiode', 'festhalten', 'damit', 'schließe', 'ich', 'die', 'aussprache']\n"
     ]
    }
   ],
   "source": [
    "print (type(redeInhalt_tokenWord))\n",
    "print (redeInhalt_tokenWord)"
   ]
  },
  {
   "cell_type": "markdown",
   "metadata": {},
   "source": [
    "## Stopwörter entfernen\n",
    "- macht Sinn nach der Tokenization, sonst muss man die hier nochmal machen\n",
    "- vllt auch sinnvoll nach lemmatisation???"
   ]
  },
  {
   "cell_type": "code",
   "execution_count": null,
   "metadata": {},
   "outputs": [
    {
     "name": "stderr",
     "output_type": "stream",
     "text": [
      "[nltk_data] Downloading package stopwords to\n",
      "[nltk_data]     C:\\Users\\clara\\AppData\\Roaming\\nltk_data...\n",
      "[nltk_data]   Package stopwords is already up-to-date!\n"
     ]
    }
   ],
   "source": [
    "nltk.download(\"stopwords\")\n",
    "from nltk.corpus import stopwords\n",
    "from nltk.tokenize import word_tokenize"
   ]
  },
  {
   "cell_type": "code",
   "execution_count": null,
   "metadata": {},
   "outputs": [
    {
     "name": "stdout",
     "output_type": "stream",
     "text": [
      "['aber', 'alle', 'allem', 'allen', 'aller', 'alles', 'als', 'also', 'am', 'an', 'ander', 'andere', 'anderem', 'anderen', 'anderer', 'anderes', 'anderm', 'andern', 'anderr', 'anders', 'auch', 'auf', 'aus', 'bei', 'bin', 'bis', 'bist', 'da', 'damit', 'dann', 'der', 'den', 'des', 'dem', 'die', 'das', 'dass', 'daß', 'derselbe', 'derselben', 'denselben', 'desselben', 'demselben', 'dieselbe', 'dieselben', 'dasselbe', 'dazu', 'dein', 'deine', 'deinem', 'deinen', 'deiner', 'deines', 'denn', 'derer', 'dessen', 'dich', 'dir', 'du', 'dies', 'diese', 'diesem', 'diesen', 'dieser', 'dieses', 'doch', 'dort', 'durch', 'ein', 'eine', 'einem', 'einen', 'einer', 'eines', 'einig', 'einige', 'einigem', 'einigen', 'einiger', 'einiges', 'einmal', 'er', 'ihn', 'ihm', 'es', 'etwas', 'euer', 'eure', 'eurem', 'euren', 'eurer', 'eures', 'für', 'gegen', 'gewesen', 'hab', 'habe', 'haben', 'hat', 'hatte', 'hatten', 'hier', 'hin', 'hinter', 'ich', 'mich', 'mir', 'ihr', 'ihre', 'ihrem', 'ihren', 'ihrer', 'ihres', 'euch', 'im', 'in', 'indem', 'ins', 'ist', 'jede', 'jedem', 'jeden', 'jeder', 'jedes', 'jene', 'jenem', 'jenen', 'jener', 'jenes', 'jetzt', 'kann', 'kein', 'keine', 'keinem', 'keinen', 'keiner', 'keines', 'können', 'könnte', 'machen', 'man', 'manche', 'manchem', 'manchen', 'mancher', 'manches', 'mein', 'meine', 'meinem', 'meinen', 'meiner', 'meines', 'mit', 'muss', 'musste', 'nach', 'nicht', 'nichts', 'noch', 'nun', 'nur', 'ob', 'oder', 'ohne', 'sehr', 'sein', 'seine', 'seinem', 'seinen', 'seiner', 'seines', 'selbst', 'sich', 'sie', 'ihnen', 'sind', 'so', 'solche', 'solchem', 'solchen', 'solcher', 'solches', 'soll', 'sollte', 'sondern', 'sonst', 'über', 'um', 'und', 'uns', 'unsere', 'unserem', 'unseren', 'unser', 'unseres', 'unter', 'viel', 'vom', 'von', 'vor', 'während', 'war', 'waren', 'warst', 'was', 'weg', 'weil', 'weiter', 'welche', 'welchem', 'welchen', 'welcher', 'welches', 'wenn', 'werde', 'werden', 'wie', 'wieder', 'will', 'wir', 'wird', 'wirst', 'wo', 'wollen', 'wollte', 'würde', 'würden', 'zu', 'zum', 'zur', 'zwar', 'zwischen']\n"
     ]
    }
   ],
   "source": [
    "print(stopwords.words(\"german\"))"
   ]
  },
  {
   "cell_type": "code",
   "execution_count": null,
   "metadata": {},
   "outputs": [
    {
     "name": "stdout",
     "output_type": "stream",
     "text": [
      "['geehrter', 'herr', 'alterspräsident', 'dr', 'schäuble', 'herr', 'brandner', 'gleich', 'ersten', 'sitzung', 'braune', 'widerlichkeitsskala', 'höhen', 'treiben', 'immerhin', 'respektvoll', 'ausgerechnet', 'willy', 'brandt', 'zitieren', 'nazis', 'gekämpft', 'niedergekniet', 'opfern', 'aufstandes', 'warschauer', 'ghetto', 'ausgerechnet', 'tradition', 'nazis', 'stehen', 'anbringen', 'abartig', 'klarheit', 'sagen', 'abartig', 'ekelerregend', 'liebe', 'kolleginnen', 'kollegen', 'geehrte', 'damen', 'herren', 'afd', 'politische', 'lage', 'angucke', 'finde', 'zurzeit', 'besonders', 'wichtig', 'entwickelt', 'corona', 'finde', 'wichtig', 'darüber', 'diskutieren', 'kinderarmut', 'bekämpfen', 'mache', 'große', 'sorgen', 'koalition', 'anbahnt', 'soziale', 'hinten', 'runterfallen', 'stabil', 'marktradikale', 'fdp', 'dafür', 'schon', 'sorgen', 'viele', 'menschen', 'bewegt', 'afd', 'wichtig', 'afd', 'wichtig', 'verunglimpfung', 'geschlechtergerechter', 'sprache', 'einzig', 'sinnvolle', 'änderungsantrag', 'sehen', 'parlamentarisch', 'verblödet', 'eigentlich', 'mal', 'sagen', 'änderungsantrag', 'einzig', 'gute', 'gut', 'erkennen', 'offenbar', 'vier', 'jahren', 'bundestag', 'gesetzestext', 'gelesen', 'gibt', 'binnen', 'i', 'doppelpunkte', 'gendersternchen', 'absurd', 'beantragen', 'gar', 'gibt', 'gesetzestexten', 'völlig', 'papierkorb', 'vorgelegt', 'fraktion', 'vorlage', 'sozialdemokratischen', 'fraktion', 'unterstützen', 'halte', 'geschäftsordnung', 'gute', 'grundlage', 'miteinander', 'streiten', 'diskutieren', 'findet', 'zustimmung', 'bedeutet', 'natürlich', 'geschäftsordnung', 'bleibt', 'generalüberholt', 'vorschläge', 'gar', 'explizit', 'mal', 'reden', 'beginn', 'letzten', 'wahlperiode', 'kollegen', 'buschmann', 'kollegin', 'haßelmann', 'kollegen', 'schneider', 'durchgelesen', 'ja', 'gute', 'vorschläge', 'carsten', 'guten', 'vorschläge', 'scheiterten', 'ja', 'immer', 'cdu', 'csu', 'ändern', 'deswegen', 'natürlich', 'vorschläge', 'einbringen', 'ja', 'mehrheit', 'problem', 'worüber', 'freue', 'halte', 'zentral', 'endlich', 'kommen', 'ausschusssitzungen', 'öffentlich', 'finde', 'müssen', 'parlamentarische', 'fragerecht', 'dringend', 'stärken', 'ausbauen', 'finde', 'müssen', 'darüber', 'diskutieren', 'möglichkeit', 'großverdienern', 'parteispenden', 'einfluss', 'laden', 'nehmen', 'endlich', 'begrenzen', 'zentrale', 'frage', 'glaubwürdigkeit', 'politik', 'glaube', 'darüber', 'hinaus', 'bitter', 'fdp', 'endlich', 'großspenden', 'unternehmen', 'verbieten', 'müssen', 'politik', 'darf', 'käuflich', 'müssen', 'geld', 'rankommen', 'geht', 'fall', 'letzten', 'punkt', 'ansprechen', 'wirklich', 'nachdenken', 'müssen', 'mal', 'wahlbeteiligung', 'angucken', 'erkennen', 'soziale', 'frage', 'wahlkreis', 'starnberg', 'angucke', 'sehe', 'wahlbeteiligung', '80', 'prozent', 'sachsen', 'anhalt', 'wahlkreis', 'anhalt', 'gerade', 'mal', '65', 'prozent', 'heißt', 'diejenigen', 'höchste', 'pro', 'kopf', 'einkommen', 'nehmen', 'überproportional', 'demokratischen', 'rechte', 'wahr', 'ungleichgewicht', 'parlamentarischen', 'demokratie', 'müssen', 'darüber', 'nachdenken', 'leute', 'teil', '35', 'prozent', 'mehr', 'wahlen', 'teilnehmen', 'abgemeldet', 'parlamente', 'parlamentsgeschehen', 'attraktiv', 'angesprochen', 'fühlen', 'last', 'but', 'not', 'least', 'glaube', 'kontrolle', 'begrenzung', 'lobbyismus', 'wirklich', 'weiterkommen', 'liebe', 'freunde', 'spd', 'halbtagslobbyisten', 'cdu', 'csu', 'sitzen', 'ja', 'einzig', 'erfreuliche', 'partei', 'sagen', 'opposition', 'hinderungsgrund', 'mehr', 'deswegen', 'glaube', 'vorschläge', 'fdp', 'grünen', 'spd', 'linke', 'immer', 'große', 'reformen', 'nächsten', 'woche', 'einbringen', 'teil', 'wortgleich', 'grünen', 'fdp', 'kommen', 'übergroße', 'mehrheit', 'darüber', 'freuen', 'gute', 'weitere', 'debatte', 'liebe', 'kolleginnen', 'kollegen', 'herr', 'kollege', 'korte', 'eigentlich', 'letzten', 'legislaturperiode', 'vorwürfe', 'fraktionen', 'kolleginnen', 'kollegen', 'tradition', 'nationalsozialisten', 'stehen', 'unparlamentarisch', 'hause', 'hören', 'rat', 'nachfolgerinund', 'angeht', 'eingeschlossen', 'daran', 'legislaturperiode', 'festhalten', 'schließe', 'aussprache']\n"
     ]
    }
   ],
   "source": [
    "stop_words = set (stopwords.words(\"german\"))\n",
    "#tokenized words: redeInhalt_tokenWord\n",
    "filtered = [w for w in redeInhalt_tokenWord if not w.lower() in stop_words]\n",
    "filtered = []\n",
    "for w in redeInhalt_tokenWord:\n",
    "    if w not in stop_words:\n",
    "        filtered.append(w)\n",
    "\n",
    "#print(redeInhalt_tokenWord)\n",
    "print(filtered)"
   ]
  },
  {
   "cell_type": "markdown",
   "metadata": {},
   "source": [
    "# FRAGEN/TODOS:\n",
    "    - wie fortfahren?---> jetzt: eigentliches Topic Modeling\n",
    "    - was brauchen wir wirklich?\n",
    "    - preprocessing verkürzen (evtl. in gesamte Methode; mindestens RegEx zsmfassen)\n",
    "    - Reihenfolge\n",
    "    - Lemmatazation (spacy)\n",
    "    - durch gesamte Reden/Kommentaredurchitereirern (siehe Vorschlag oben/ \n",
    "      bzw. nochmal pull aus dem git; evtl. hat stefan die json datei so verändert, \n",
    "      dass es jetzt leichter ist, alle reden aufeinmal anzusprechen)\n",
    "    - wie mit Zahlen/Prozenten fortfahren?"
   ]
  }
 ],
 "metadata": {
  "kernelspec": {
   "display_name": "Python 3 (ipykernel)",
   "language": "python",
   "name": "python3"
  },
  "language_info": {
   "codemirror_mode": {
    "name": "ipython",
    "version": 3
   },
   "file_extension": ".py",
   "mimetype": "text/x-python",
   "name": "python",
   "nbconvert_exporter": "python",
   "pygments_lexer": "ipython3",
   "version": "3.9.13"
  }
 },
 "nbformat": 4,
 "nbformat_minor": 2
}
