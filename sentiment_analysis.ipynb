{
 "cells": [
  {
   "cell_type": "markdown",
   "id": "160c9dec",
   "metadata": {},
   "source": [
    "# Sentiment Analysis "
   ]
  },
  {
   "cell_type": "code",
   "execution_count": 2,
   "id": "c5d87151",
   "metadata": {},
   "outputs": [],
   "source": [
    "#imports (json for JSON file, spacy, spacytextblob and textblob for SentAn)\n",
    "import json\n",
    "import spacy\n",
    "from spacytextblob.spacytextblob import SpacyTextBlob \n",
    "from textblob_de import TextBlobDE\n",
    "from textblob.sentiments import NaiveBayesAnalyzer"
   ]
  },
  {
   "cell_type": "code",
   "execution_count": 3,
   "id": "8933f007",
   "metadata": {},
   "outputs": [],
   "source": [
    "#loading small German language model and saving in \"nlp\" variable\n",
    "nlp = spacy.load('de_core_news_sm')"
   ]
  },
  {
   "cell_type": "code",
   "execution_count": null,
   "id": "8fe846ee",
   "metadata": {},
   "outputs": [],
   "source": [
    "#installing textblob's corpora\n",
    "#!python -m textblob.download_corpora"
   ]
  },
  {
   "cell_type": "code",
   "execution_count": null,
   "id": "775e5b47",
   "metadata": {},
   "outputs": [],
   "source": [
    "#nlp.add_pipe('spacytextblob')"
   ]
  },
  {
   "cell_type": "code",
   "execution_count": null,
   "id": "d5485dde",
   "metadata": {},
   "outputs": [],
   "source": [
    "#nlp.pipeline"
   ]
  },
  {
   "cell_type": "code",
   "execution_count": 4,
   "id": "c086d6e1",
   "metadata": {},
   "outputs": [],
   "source": [
    "#loading Bundestagsreden sample into a json file and saving in \"data\" variable\n",
    "with open('BundestagsRedenSample.json', encoding=\"utf-8\") as json_file:\n",
    "    data = json.load(json_file)"
   ]
  },
  {
   "cell_type": "code",
   "execution_count": 5,
   "id": "6d492295",
   "metadata": {},
   "outputs": [],
   "source": [
    "#declaring (empty) dictionary kommentarlisteMitSentiment and declaring and initializing \"sentimentwert\" with value 0\n",
    "kommentarlisteMitSentiment = {}\n",
    "sentimentwert = 0"
   ]
  },
  {
   "cell_type": "code",
   "execution_count": 7,
   "id": "a70ca7af",
   "metadata": {},
   "outputs": [
    {
     "name": "stdout",
     "output_type": "stream",
     "text": [
      "aber die geschäftsordnung! 0.0\n",
      "\n",
      "aber die geschäftsordnung!\n",
      "dafür haben sie auch die quittung gekriegt! 0.0\n",
      "\n",
      "dafür haben sie auch die quittung gekriegt!\n",
      "das war ganz gut! 1.0\n",
      "\n",
      "das war ganz gut!\n",
      "na ja! 0.0\n",
      "\n",
      "na ja!\n",
      "das erkläre ich ihnen gleich! 0.0\n",
      "\n",
      "das erkläre ich ihnen gleich!\n",
      "sie haben den antrag nicht verstanden! 0.0\n",
      "\n",
      "sie haben den antrag nicht verstanden!\n",
      "das ist ihre lebenswirklichkeit! 0.0\n",
      "\n",
      "das ist ihre lebenswirklichkeit!\n",
      "oder jugendweihe 0.0\n",
      "\n",
      "! 0.0\n",
      "\n",
      "oder jugendweihe!\n",
      "sie wollen keine afd! 0.0\n",
      "\n",
      "sie wollen keine afd!\n",
      "ja! 0.0\n",
      "\n",
      "ja!\n",
      "ja, das hat sie doch gesagt! 0.0\n",
      "\n",
      "ja, das hat sie doch gesagt!\n",
      "o mein gott! 0.0\n",
      "\n",
      "o mein gott!\n",
      "das ist falsch! -1.0\n",
      "\n",
      "das ist falsch!\n",
      "ja, in einem bundesland! 0.0\n",
      "\n",
      "in einem einzigen bundesland! 0.0\n",
      "\n",
      "der vollhonk! 0.0\n",
      "\n",
      "unmöglich! unfassbar! 0.0\n",
      "\n",
      "ja, in einem bundesland! in einem einzigen bundesland! der vollhonk! unmöglich! unfassbar!\n",
      "jetzt kommt die rote widerlichkeit! 0.0\n",
      "\n",
      "das ist noch schlimmer! -1.0\n",
      "\n",
      "jetzt kommt die rote widerlichkeit! das ist noch schlimmer!\n",
      "und sie in der tradition von ulbricht! 0.0\n",
      "\n",
      "und sie in der tradition von ulbricht!\n",
      "sie hätten aus dem parlament raus gehört! 0.0\n",
      "\n",
      "sie hätten aus dem parlament raus gehört!\n",
      "das werden wir jetzt die nächsten vier jahre hören! 0.0\n",
      "\n",
      "das werden wir jetzt die nächsten vier jahre hören!\n",
      "das machen wir schon selber! 0.0\n",
      "\n",
      "das machen wir schon selber!\n",
      "dann musst du mal bessere werbung machen! 0.0\n",
      "\n",
      "dann musst du mal bessere werbung machen!\n",
      "durch sie passiert das bestimmt nicht! 0.0\n",
      "\n",
      "durch sie passiert das bestimmt nicht!\n",
      "es scheint ihnen sehr schlecht zu gehen! -1.0\n",
      "\n",
      "es scheint ihnen sehr schlecht zu gehen!\n",
      "stimmt aber! 0.0\n",
      "\n",
      "stimmt aber!\n",
      "das habe ich auch nicht behauptet! 0.0\n",
      "\n",
      "das habe ich auch nicht behauptet!\n"
     ]
    }
   ],
   "source": [
    "#iterates through the file\n",
    "for rede in data:\n",
    "    #iterates through comments to the speeches\n",
    "    for kommentare in data[rede][2]:\n",
    "        #loads comments into language model and assigns them to the variable \"doc\" (?)\n",
    "        doc = nlp(kommentare[1])\n",
    "        #doc._.polarity\n",
    "        #iterates through tokenized comments by sentence (???)\n",
    "        for span in doc.sents:\n",
    "            #the resulting view (span) is assigned to the resulting variable \"blob\"\n",
    "            blob = TextBlobDE(span.text)\n",
    "            print(span, blob.sentiment.polarity)\n",
    "            #the sentiment value is assigned to the variable \"sentimentwert\"\n",
    "            sentimentwert = blob.sentiment.polarity\n",
    "            print('')\n",
    "        #the sentiment value is appended to the array \"kommentare\"\n",
    "        kommentare.append(sentimentwert)\n",
    "        print(kommentare[1])"
   ]
  },
  {
   "cell_type": "code",
   "execution_count": 8,
   "id": "7d2faa94",
   "metadata": {},
   "outputs": [],
   "source": [
    "kommentarlisteMitSentiment = data"
   ]
  },
  {
   "cell_type": "code",
   "execution_count": 10,
   "id": "7d671c7a",
   "metadata": {},
   "outputs": [
    {
     "name": "stdout",
     "output_type": "stream",
     "text": [
      "ID20100200 -> ['[AfD]', 'aber die geschäftsordnung!', 0.0]\n",
      "ID20100200 -> ['[AfD]', 'dafür haben sie auch die quittung gekriegt!', 0.0]\n",
      "ID20100200 -> ['[DIE LINKE]', 'das war ganz gut!', 1.0]\n",
      "ID20100200 -> ['[AfD]', 'na ja!', 0.0]\n",
      "ID20100300 -> ['[AfD]', 'das erkläre ich ihnen gleich!', 0.0]\n",
      "ID20100300 -> ['[AfD]', 'sie haben den antrag nicht verstanden!', 0.0]\n",
      "ID20100300 -> ['[AfD]', 'das ist ihre lebenswirklichkeit!', 0.0]\n",
      "ID20100400 -> ['[DIE LINKE]', 'oder jugendweihe!', 0.0]\n",
      "ID20100500 -> ['[BÜNDNIS 90/DIE GRÜNEN]', 'sie wollen keine afd!', 0.0]\n",
      "ID20100500 -> ['[BÜNDNIS 90/DIE GRÜNEN]', 'ja!', 0.0]\n",
      "ID20100500 -> ['[DIE LINKE]', 'ja, das hat sie doch gesagt!', 0.0]\n",
      "ID20100500 -> ['[BÜNDNIS 90/DIE GRÜNEN]', 'o mein gott!', 0.0]\n",
      "ID20100500 -> ['[CDU/CSU]', 'das ist falsch!', -1.0]\n",
      "ID20100500 -> ['[CDU/CSU]', 'ja, in einem bundesland! in einem einzigen bundesland! der vollhonk! unmöglich! unfassbar!', 0.0]\n",
      "ID20100600 -> ['[AfD]', 'jetzt kommt die rote widerlichkeit! das ist noch schlimmer!', -1.0]\n",
      "ID20100600 -> ['[AfD]', 'und sie in der tradition von ulbricht!', 0.0]\n",
      "ID20100600 -> ['[AfD]', 'sie hätten aus dem parlament raus gehört!', 0.0]\n",
      "ID20100600 -> ['[FDP]', 'das werden wir jetzt die nächsten vier jahre hören!', 0.0]\n",
      "ID20100600 -> ['[FDP]', 'das machen wir schon selber!', 0.0]\n",
      "ID20100600 -> ['[FDP]', 'dann musst du mal bessere werbung machen!', 0.0]\n",
      "ID20100600 -> ['[AfD]', 'durch sie passiert das bestimmt nicht!', 0.0]\n",
      "ID20100600 -> ['[CDU/CSU]', 'es scheint ihnen sehr schlecht zu gehen!', -1.0]\n",
      "ID20100600 -> ['[DIE LINKE]', 'stimmt aber!', 0.0]\n",
      "ID20100600 -> ['[DIE LINKE]', 'das habe ich auch nicht behauptet!', 0.0]\n"
     ]
    }
   ],
   "source": [
    "#prints the ID from the dictionary with the corresponding parliamentary group, comment and sentiment value\n",
    "for rede in kommentarlisteMitSentiment:\n",
    "    for kommentare in data[rede][2]:\n",
    "        print(rede, '->', kommentare)"
   ]
  }
 ],
 "metadata": {
  "kernelspec": {
   "display_name": "Python 3 (ipykernel)",
   "language": "python",
   "name": "python3"
  },
  "language_info": {
   "codemirror_mode": {
    "name": "ipython",
    "version": 3
   },
   "file_extension": ".py",
   "mimetype": "text/x-python",
   "name": "python",
   "nbconvert_exporter": "python",
   "pygments_lexer": "ipython3",
   "version": "3.9.13"
  }
 },
 "nbformat": 4,
 "nbformat_minor": 5
}
